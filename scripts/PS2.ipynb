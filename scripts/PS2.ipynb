{
 "cells": [
  {
   "cell_type": "code",
   "execution_count": 34,
   "metadata": {},
   "outputs": [],
   "source": [
    "# CReo el repositorio y lo clono en mi pc\n",
    "#corro este script\n",
    "# meto el zip con los datos en stores"
   ]
  },
  {
   "cell_type": "code",
   "execution_count": 35,
   "metadata": {},
   "outputs": [],
   "source": [
    "import os\n",
    "import pandas as pd\n",
    "import zipfile"
   ]
  },
  {
   "cell_type": "code",
   "execution_count": 36,
   "metadata": {},
   "outputs": [],
   "source": [
    "# Seteo la ruta del repositorio (reemplazarla por la propia)\n",
    "ruta = r\"C:\\Users\\Sofia\\OneDrive\\Escritorio\\ML\\PS2\"\n"
   ]
  },
  {
   "cell_type": "code",
   "execution_count": 37,
   "metadata": {},
   "outputs": [],
   "source": [
    "# Fijo rutas para cada carpeta del repositorio\n",
    "document_path = os.path.join(ruta, \"document\")\n",
    "scripts_path = os.path.join(ruta, \"scripts\")\n",
    "stores_path = os.path.join(ruta, \"stores\")\n",
    "views_path = os.path.join(ruta, \"views\")\n"
   ]
  },
  {
   "cell_type": "code",
   "execution_count": 38,
   "metadata": {},
   "outputs": [],
   "source": [
    "# Creo las carpetas por única vez\n",
    "os.makedirs(document_path, exist_ok=True)\n",
    "os.makedirs(scripts_path, exist_ok=True)\n",
    "os.makedirs(stores_path, exist_ok=True)\n",
    "os.makedirs(views_path, exist_ok=True)\n"
   ]
  },
  {
   "cell_type": "code",
   "execution_count": 39,
   "metadata": {},
   "outputs": [],
   "source": [
    "zip_path = os.path.join(stores_path, \"mlunlp-2024-ps-2.zip\")"
   ]
  },
  {
   "cell_type": "code",
   "execution_count": 40,
   "metadata": {},
   "outputs": [],
   "source": [
    "train_hogares_path = \"train_hogares.csv\"\n",
    "train_personas_path = \"train_personas.csv\""
   ]
  },
  {
   "cell_type": "code",
   "execution_count": 41,
   "metadata": {},
   "outputs": [],
   "source": [
    "with zipfile.ZipFile(zip_path, 'r') as z:\n",
    "    with z.open(train_hogares_path) as f:\n",
    "        train_hogares = pd.read_csv(f)\n",
    "\n",
    "with zipfile.ZipFile(zip_path, 'r') as z:\n",
    "    with z.open(train_personas_path) as f:\n",
    "        train_personas = pd.read_csv(f)"
   ]
  },
  {
   "cell_type": "code",
   "execution_count": 42,
   "metadata": {},
   "outputs": [
    {
     "data": {
      "text/html": [
       "<div>\n",
       "<style scoped>\n",
       "    .dataframe tbody tr th:only-of-type {\n",
       "        vertical-align: middle;\n",
       "    }\n",
       "\n",
       "    .dataframe tbody tr th {\n",
       "        vertical-align: top;\n",
       "    }\n",
       "\n",
       "    .dataframe thead th {\n",
       "        text-align: right;\n",
       "    }\n",
       "</style>\n",
       "<table border=\"1\" class=\"dataframe\">\n",
       "  <thead>\n",
       "    <tr style=\"text-align: right;\">\n",
       "      <th></th>\n",
       "      <th>id</th>\n",
       "      <th>Clase</th>\n",
       "      <th>Dominio</th>\n",
       "      <th>P5000</th>\n",
       "      <th>P5010</th>\n",
       "      <th>P5090</th>\n",
       "      <th>P5100</th>\n",
       "      <th>P5130</th>\n",
       "      <th>P5140</th>\n",
       "      <th>Nper</th>\n",
       "      <th>...</th>\n",
       "      <th>Ingpcug</th>\n",
       "      <th>Li</th>\n",
       "      <th>Lp</th>\n",
       "      <th>Pobre</th>\n",
       "      <th>Indigente</th>\n",
       "      <th>Npobres</th>\n",
       "      <th>Nindigentes</th>\n",
       "      <th>Fex_c</th>\n",
       "      <th>Depto</th>\n",
       "      <th>Fex_dpto</th>\n",
       "    </tr>\n",
       "  </thead>\n",
       "  <tbody>\n",
       "    <tr>\n",
       "      <th>0</th>\n",
       "      <td>8d0193e328305a042001a35f</td>\n",
       "      <td>1</td>\n",
       "      <td>MEDELLIN</td>\n",
       "      <td>4</td>\n",
       "      <td>2</td>\n",
       "      <td>1</td>\n",
       "      <td>NaN</td>\n",
       "      <td>400000.0</td>\n",
       "      <td>NaN</td>\n",
       "      <td>5</td>\n",
       "      <td>...</td>\n",
       "      <td>5.816661e+05</td>\n",
       "      <td>122809.534158</td>\n",
       "      <td>289878.24715</td>\n",
       "      <td>0</td>\n",
       "      <td>0</td>\n",
       "      <td>0</td>\n",
       "      <td>0</td>\n",
       "      <td>127.222038</td>\n",
       "      <td>5</td>\n",
       "      <td>146.251790</td>\n",
       "    </tr>\n",
       "    <tr>\n",
       "      <th>1</th>\n",
       "      <td>cf7491d7f2cc9c216bd009e7</td>\n",
       "      <td>1</td>\n",
       "      <td>MEDELLIN</td>\n",
       "      <td>5</td>\n",
       "      <td>4</td>\n",
       "      <td>3</td>\n",
       "      <td>NaN</td>\n",
       "      <td>NaN</td>\n",
       "      <td>250000.0</td>\n",
       "      <td>4</td>\n",
       "      <td>...</td>\n",
       "      <td>1.612500e+05</td>\n",
       "      <td>122809.534158</td>\n",
       "      <td>289878.24715</td>\n",
       "      <td>1</td>\n",
       "      <td>0</td>\n",
       "      <td>4</td>\n",
       "      <td>0</td>\n",
       "      <td>115.866093</td>\n",
       "      <td>5</td>\n",
       "      <td>93.080952</td>\n",
       "    </tr>\n",
       "    <tr>\n",
       "      <th>2</th>\n",
       "      <td>d90a57f64d2a84dbacbed2a5</td>\n",
       "      <td>1</td>\n",
       "      <td>MEDELLIN</td>\n",
       "      <td>4</td>\n",
       "      <td>2</td>\n",
       "      <td>1</td>\n",
       "      <td>NaN</td>\n",
       "      <td>700000.0</td>\n",
       "      <td>NaN</td>\n",
       "      <td>3</td>\n",
       "      <td>...</td>\n",
       "      <td>2.000000e+06</td>\n",
       "      <td>122809.534158</td>\n",
       "      <td>289878.24715</td>\n",
       "      <td>0</td>\n",
       "      <td>0</td>\n",
       "      <td>0</td>\n",
       "      <td>0</td>\n",
       "      <td>100.123276</td>\n",
       "      <td>5</td>\n",
       "      <td>89.637086</td>\n",
       "    </tr>\n",
       "    <tr>\n",
       "      <th>3</th>\n",
       "      <td>db34e387a94a783188ab3a33</td>\n",
       "      <td>1</td>\n",
       "      <td>MEDELLIN</td>\n",
       "      <td>3</td>\n",
       "      <td>1</td>\n",
       "      <td>1</td>\n",
       "      <td>NaN</td>\n",
       "      <td>450000.0</td>\n",
       "      <td>NaN</td>\n",
       "      <td>1</td>\n",
       "      <td>...</td>\n",
       "      <td>2.450000e+06</td>\n",
       "      <td>122809.534158</td>\n",
       "      <td>289878.24715</td>\n",
       "      <td>0</td>\n",
       "      <td>0</td>\n",
       "      <td>0</td>\n",
       "      <td>0</td>\n",
       "      <td>108.829812</td>\n",
       "      <td>5</td>\n",
       "      <td>95.584376</td>\n",
       "    </tr>\n",
       "    <tr>\n",
       "      <th>4</th>\n",
       "      <td>97bbef785824746ecab09c6f</td>\n",
       "      <td>1</td>\n",
       "      <td>MEDELLIN</td>\n",
       "      <td>4</td>\n",
       "      <td>3</td>\n",
       "      <td>3</td>\n",
       "      <td>NaN</td>\n",
       "      <td>NaN</td>\n",
       "      <td>500000.0</td>\n",
       "      <td>5</td>\n",
       "      <td>...</td>\n",
       "      <td>2.520000e+05</td>\n",
       "      <td>122809.534158</td>\n",
       "      <td>289878.24715</td>\n",
       "      <td>1</td>\n",
       "      <td>0</td>\n",
       "      <td>5</td>\n",
       "      <td>0</td>\n",
       "      <td>110.412859</td>\n",
       "      <td>5</td>\n",
       "      <td>124.560515</td>\n",
       "    </tr>\n",
       "  </tbody>\n",
       "</table>\n",
       "<p>5 rows × 23 columns</p>\n",
       "</div>"
      ],
      "text/plain": [
       "                         id  Clase   Dominio  P5000  P5010  P5090  P5100  \\\n",
       "0  8d0193e328305a042001a35f      1  MEDELLIN      4      2      1    NaN   \n",
       "1  cf7491d7f2cc9c216bd009e7      1  MEDELLIN      5      4      3    NaN   \n",
       "2  d90a57f64d2a84dbacbed2a5      1  MEDELLIN      4      2      1    NaN   \n",
       "3  db34e387a94a783188ab3a33      1  MEDELLIN      3      1      1    NaN   \n",
       "4  97bbef785824746ecab09c6f      1  MEDELLIN      4      3      3    NaN   \n",
       "\n",
       "      P5130     P5140  Nper  ...       Ingpcug             Li            Lp  \\\n",
       "0  400000.0       NaN     5  ...  5.816661e+05  122809.534158  289878.24715   \n",
       "1       NaN  250000.0     4  ...  1.612500e+05  122809.534158  289878.24715   \n",
       "2  700000.0       NaN     3  ...  2.000000e+06  122809.534158  289878.24715   \n",
       "3  450000.0       NaN     1  ...  2.450000e+06  122809.534158  289878.24715   \n",
       "4       NaN  500000.0     5  ...  2.520000e+05  122809.534158  289878.24715   \n",
       "\n",
       "   Pobre  Indigente  Npobres  Nindigentes       Fex_c  Depto    Fex_dpto  \n",
       "0      0          0        0            0  127.222038      5  146.251790  \n",
       "1      1          0        4            0  115.866093      5   93.080952  \n",
       "2      0          0        0            0  100.123276      5   89.637086  \n",
       "3      0          0        0            0  108.829812      5   95.584376  \n",
       "4      1          0        5            0  110.412859      5  124.560515  \n",
       "\n",
       "[5 rows x 23 columns]"
      ]
     },
     "execution_count": 42,
     "metadata": {},
     "output_type": "execute_result"
    }
   ],
   "source": [
    "train_hogares.head(5)"
   ]
  },
  {
   "cell_type": "code",
   "execution_count": 43,
   "metadata": {},
   "outputs": [
    {
     "data": {
      "text/html": [
       "<div>\n",
       "<style scoped>\n",
       "    .dataframe tbody tr th:only-of-type {\n",
       "        vertical-align: middle;\n",
       "    }\n",
       "\n",
       "    .dataframe tbody tr th {\n",
       "        vertical-align: top;\n",
       "    }\n",
       "\n",
       "    .dataframe thead th {\n",
       "        text-align: right;\n",
       "    }\n",
       "</style>\n",
       "<table border=\"1\" class=\"dataframe\">\n",
       "  <thead>\n",
       "    <tr style=\"text-align: right;\">\n",
       "      <th></th>\n",
       "      <th>id</th>\n",
       "      <th>Orden</th>\n",
       "      <th>Clase</th>\n",
       "      <th>Dominio</th>\n",
       "      <th>Estrato1</th>\n",
       "      <th>P6020</th>\n",
       "      <th>P6040</th>\n",
       "      <th>P6050</th>\n",
       "      <th>P6090</th>\n",
       "      <th>P6100</th>\n",
       "      <th>...</th>\n",
       "      <th>Iof2es</th>\n",
       "      <th>Iof3hes</th>\n",
       "      <th>Iof3ies</th>\n",
       "      <th>Iof6es</th>\n",
       "      <th>Ingtotob</th>\n",
       "      <th>Ingtotes</th>\n",
       "      <th>Ingtot</th>\n",
       "      <th>Fex_c</th>\n",
       "      <th>Depto</th>\n",
       "      <th>Fex_dpto</th>\n",
       "    </tr>\n",
       "  </thead>\n",
       "  <tbody>\n",
       "    <tr>\n",
       "      <th>0</th>\n",
       "      <td>8d0193e328305a042001a35f</td>\n",
       "      <td>2</td>\n",
       "      <td>1</td>\n",
       "      <td>MEDELLIN</td>\n",
       "      <td>2</td>\n",
       "      <td>2</td>\n",
       "      <td>38</td>\n",
       "      <td>2</td>\n",
       "      <td>1.0</td>\n",
       "      <td>1.0</td>\n",
       "      <td>...</td>\n",
       "      <td>NaN</td>\n",
       "      <td>NaN</td>\n",
       "      <td>NaN</td>\n",
       "      <td>NaN</td>\n",
       "      <td>1.109190e+06</td>\n",
       "      <td>NaN</td>\n",
       "      <td>1.109190e+06</td>\n",
       "      <td>127.222038</td>\n",
       "      <td>5</td>\n",
       "      <td>146.25179</td>\n",
       "    </tr>\n",
       "    <tr>\n",
       "      <th>1</th>\n",
       "      <td>8d0193e328305a042001a35f</td>\n",
       "      <td>5</td>\n",
       "      <td>1</td>\n",
       "      <td>MEDELLIN</td>\n",
       "      <td>2</td>\n",
       "      <td>1</td>\n",
       "      <td>3</td>\n",
       "      <td>3</td>\n",
       "      <td>NaN</td>\n",
       "      <td>NaN</td>\n",
       "      <td>...</td>\n",
       "      <td>NaN</td>\n",
       "      <td>NaN</td>\n",
       "      <td>NaN</td>\n",
       "      <td>NaN</td>\n",
       "      <td>NaN</td>\n",
       "      <td>NaN</td>\n",
       "      <td>NaN</td>\n",
       "      <td>127.222038</td>\n",
       "      <td>5</td>\n",
       "      <td>146.25179</td>\n",
       "    </tr>\n",
       "    <tr>\n",
       "      <th>2</th>\n",
       "      <td>8d0193e328305a042001a35f</td>\n",
       "      <td>1</td>\n",
       "      <td>1</td>\n",
       "      <td>MEDELLIN</td>\n",
       "      <td>2</td>\n",
       "      <td>1</td>\n",
       "      <td>41</td>\n",
       "      <td>1</td>\n",
       "      <td>1.0</td>\n",
       "      <td>1.0</td>\n",
       "      <td>...</td>\n",
       "      <td>NaN</td>\n",
       "      <td>NaN</td>\n",
       "      <td>NaN</td>\n",
       "      <td>NaN</td>\n",
       "      <td>1.399140e+06</td>\n",
       "      <td>NaN</td>\n",
       "      <td>1.399140e+06</td>\n",
       "      <td>127.222038</td>\n",
       "      <td>5</td>\n",
       "      <td>146.25179</td>\n",
       "    </tr>\n",
       "    <tr>\n",
       "      <th>3</th>\n",
       "      <td>8d0193e328305a042001a35f</td>\n",
       "      <td>4</td>\n",
       "      <td>1</td>\n",
       "      <td>MEDELLIN</td>\n",
       "      <td>2</td>\n",
       "      <td>1</td>\n",
       "      <td>3</td>\n",
       "      <td>3</td>\n",
       "      <td>NaN</td>\n",
       "      <td>NaN</td>\n",
       "      <td>...</td>\n",
       "      <td>NaN</td>\n",
       "      <td>NaN</td>\n",
       "      <td>NaN</td>\n",
       "      <td>NaN</td>\n",
       "      <td>NaN</td>\n",
       "      <td>NaN</td>\n",
       "      <td>NaN</td>\n",
       "      <td>127.222038</td>\n",
       "      <td>5</td>\n",
       "      <td>146.25179</td>\n",
       "    </tr>\n",
       "    <tr>\n",
       "      <th>4</th>\n",
       "      <td>8d0193e328305a042001a35f</td>\n",
       "      <td>3</td>\n",
       "      <td>1</td>\n",
       "      <td>MEDELLIN</td>\n",
       "      <td>2</td>\n",
       "      <td>1</td>\n",
       "      <td>11</td>\n",
       "      <td>3</td>\n",
       "      <td>NaN</td>\n",
       "      <td>NaN</td>\n",
       "      <td>...</td>\n",
       "      <td>NaN</td>\n",
       "      <td>NaN</td>\n",
       "      <td>NaN</td>\n",
       "      <td>NaN</td>\n",
       "      <td>NaN</td>\n",
       "      <td>NaN</td>\n",
       "      <td>NaN</td>\n",
       "      <td>127.222038</td>\n",
       "      <td>5</td>\n",
       "      <td>146.25179</td>\n",
       "    </tr>\n",
       "  </tbody>\n",
       "</table>\n",
       "<p>5 rows × 135 columns</p>\n",
       "</div>"
      ],
      "text/plain": [
       "                         id  Orden  Clase   Dominio  Estrato1  P6020  P6040  \\\n",
       "0  8d0193e328305a042001a35f      2      1  MEDELLIN         2      2     38   \n",
       "1  8d0193e328305a042001a35f      5      1  MEDELLIN         2      1      3   \n",
       "2  8d0193e328305a042001a35f      1      1  MEDELLIN         2      1     41   \n",
       "3  8d0193e328305a042001a35f      4      1  MEDELLIN         2      1      3   \n",
       "4  8d0193e328305a042001a35f      3      1  MEDELLIN         2      1     11   \n",
       "\n",
       "   P6050  P6090  P6100  ...  Iof2es  Iof3hes  Iof3ies  Iof6es      Ingtotob  \\\n",
       "0      2    1.0    1.0  ...     NaN      NaN      NaN     NaN  1.109190e+06   \n",
       "1      3    NaN    NaN  ...     NaN      NaN      NaN     NaN           NaN   \n",
       "2      1    1.0    1.0  ...     NaN      NaN      NaN     NaN  1.399140e+06   \n",
       "3      3    NaN    NaN  ...     NaN      NaN      NaN     NaN           NaN   \n",
       "4      3    NaN    NaN  ...     NaN      NaN      NaN     NaN           NaN   \n",
       "\n",
       "   Ingtotes        Ingtot       Fex_c  Depto   Fex_dpto  \n",
       "0       NaN  1.109190e+06  127.222038      5  146.25179  \n",
       "1       NaN           NaN  127.222038      5  146.25179  \n",
       "2       NaN  1.399140e+06  127.222038      5  146.25179  \n",
       "3       NaN           NaN  127.222038      5  146.25179  \n",
       "4       NaN           NaN  127.222038      5  146.25179  \n",
       "\n",
       "[5 rows x 135 columns]"
      ]
     },
     "execution_count": 43,
     "metadata": {},
     "output_type": "execute_result"
    }
   ],
   "source": [
    "train_personas.head(5)"
   ]
  },
  {
   "cell_type": "code",
   "execution_count": 44,
   "metadata": {},
   "outputs": [
    {
     "data": {
      "text/plain": [
       "(543109, 135)"
      ]
     },
     "execution_count": 44,
     "metadata": {},
     "output_type": "execute_result"
    }
   ],
   "source": [
    "train_personas.shape"
   ]
  },
  {
   "cell_type": "code",
   "execution_count": 45,
   "metadata": {},
   "outputs": [],
   "source": [
    "train_merged = pd.merge(train_personas, train_hogares, on='id', how= \"inner\", suffixes=('_ind', '_hogar'))  "
   ]
  },
  {
   "cell_type": "code",
   "execution_count": 46,
   "metadata": {},
   "outputs": [
    {
     "data": {
      "text/plain": [
       "(543109, 157)"
      ]
     },
     "execution_count": 46,
     "metadata": {},
     "output_type": "execute_result"
    }
   ],
   "source": [
    "train_merged.shape "
   ]
  },
  {
   "cell_type": "code",
   "execution_count": 47,
   "metadata": {},
   "outputs": [
    {
     "data": {
      "text/html": [
       "<div>\n",
       "<style scoped>\n",
       "    .dataframe tbody tr th:only-of-type {\n",
       "        vertical-align: middle;\n",
       "    }\n",
       "\n",
       "    .dataframe tbody tr th {\n",
       "        vertical-align: top;\n",
       "    }\n",
       "\n",
       "    .dataframe thead th {\n",
       "        text-align: right;\n",
       "    }\n",
       "</style>\n",
       "<table border=\"1\" class=\"dataframe\">\n",
       "  <thead>\n",
       "    <tr style=\"text-align: right;\">\n",
       "      <th></th>\n",
       "      <th>id</th>\n",
       "      <th>Orden</th>\n",
       "      <th>Clase_ind</th>\n",
       "      <th>Dominio_ind</th>\n",
       "      <th>Estrato1</th>\n",
       "      <th>P6020</th>\n",
       "      <th>P6040</th>\n",
       "      <th>P6050</th>\n",
       "      <th>P6090</th>\n",
       "      <th>P6100</th>\n",
       "      <th>...</th>\n",
       "      <th>Ingpcug</th>\n",
       "      <th>Li</th>\n",
       "      <th>Lp</th>\n",
       "      <th>Pobre</th>\n",
       "      <th>Indigente</th>\n",
       "      <th>Npobres</th>\n",
       "      <th>Nindigentes</th>\n",
       "      <th>Fex_c_hogar</th>\n",
       "      <th>Depto_hogar</th>\n",
       "      <th>Fex_dpto_hogar</th>\n",
       "    </tr>\n",
       "  </thead>\n",
       "  <tbody>\n",
       "    <tr>\n",
       "      <th>0</th>\n",
       "      <td>8d0193e328305a042001a35f</td>\n",
       "      <td>2</td>\n",
       "      <td>1</td>\n",
       "      <td>MEDELLIN</td>\n",
       "      <td>2</td>\n",
       "      <td>2</td>\n",
       "      <td>38</td>\n",
       "      <td>2</td>\n",
       "      <td>1.0</td>\n",
       "      <td>1.0</td>\n",
       "      <td>...</td>\n",
       "      <td>5.816661e+05</td>\n",
       "      <td>122809.534158</td>\n",
       "      <td>289878.247150</td>\n",
       "      <td>0</td>\n",
       "      <td>0</td>\n",
       "      <td>0</td>\n",
       "      <td>0</td>\n",
       "      <td>127.222038</td>\n",
       "      <td>5</td>\n",
       "      <td>146.251790</td>\n",
       "    </tr>\n",
       "    <tr>\n",
       "      <th>1</th>\n",
       "      <td>8d0193e328305a042001a35f</td>\n",
       "      <td>5</td>\n",
       "      <td>1</td>\n",
       "      <td>MEDELLIN</td>\n",
       "      <td>2</td>\n",
       "      <td>1</td>\n",
       "      <td>3</td>\n",
       "      <td>3</td>\n",
       "      <td>NaN</td>\n",
       "      <td>NaN</td>\n",
       "      <td>...</td>\n",
       "      <td>5.816661e+05</td>\n",
       "      <td>122809.534158</td>\n",
       "      <td>289878.247150</td>\n",
       "      <td>0</td>\n",
       "      <td>0</td>\n",
       "      <td>0</td>\n",
       "      <td>0</td>\n",
       "      <td>127.222038</td>\n",
       "      <td>5</td>\n",
       "      <td>146.251790</td>\n",
       "    </tr>\n",
       "    <tr>\n",
       "      <th>2</th>\n",
       "      <td>8d0193e328305a042001a35f</td>\n",
       "      <td>1</td>\n",
       "      <td>1</td>\n",
       "      <td>MEDELLIN</td>\n",
       "      <td>2</td>\n",
       "      <td>1</td>\n",
       "      <td>41</td>\n",
       "      <td>1</td>\n",
       "      <td>1.0</td>\n",
       "      <td>1.0</td>\n",
       "      <td>...</td>\n",
       "      <td>5.816661e+05</td>\n",
       "      <td>122809.534158</td>\n",
       "      <td>289878.247150</td>\n",
       "      <td>0</td>\n",
       "      <td>0</td>\n",
       "      <td>0</td>\n",
       "      <td>0</td>\n",
       "      <td>127.222038</td>\n",
       "      <td>5</td>\n",
       "      <td>146.251790</td>\n",
       "    </tr>\n",
       "    <tr>\n",
       "      <th>3</th>\n",
       "      <td>8d0193e328305a042001a35f</td>\n",
       "      <td>4</td>\n",
       "      <td>1</td>\n",
       "      <td>MEDELLIN</td>\n",
       "      <td>2</td>\n",
       "      <td>1</td>\n",
       "      <td>3</td>\n",
       "      <td>3</td>\n",
       "      <td>NaN</td>\n",
       "      <td>NaN</td>\n",
       "      <td>...</td>\n",
       "      <td>5.816661e+05</td>\n",
       "      <td>122809.534158</td>\n",
       "      <td>289878.247150</td>\n",
       "      <td>0</td>\n",
       "      <td>0</td>\n",
       "      <td>0</td>\n",
       "      <td>0</td>\n",
       "      <td>127.222038</td>\n",
       "      <td>5</td>\n",
       "      <td>146.251790</td>\n",
       "    </tr>\n",
       "    <tr>\n",
       "      <th>4</th>\n",
       "      <td>8d0193e328305a042001a35f</td>\n",
       "      <td>3</td>\n",
       "      <td>1</td>\n",
       "      <td>MEDELLIN</td>\n",
       "      <td>2</td>\n",
       "      <td>1</td>\n",
       "      <td>11</td>\n",
       "      <td>3</td>\n",
       "      <td>NaN</td>\n",
       "      <td>NaN</td>\n",
       "      <td>...</td>\n",
       "      <td>5.816661e+05</td>\n",
       "      <td>122809.534158</td>\n",
       "      <td>289878.247150</td>\n",
       "      <td>0</td>\n",
       "      <td>0</td>\n",
       "      <td>0</td>\n",
       "      <td>0</td>\n",
       "      <td>127.222038</td>\n",
       "      <td>5</td>\n",
       "      <td>146.251790</td>\n",
       "    </tr>\n",
       "    <tr>\n",
       "      <th>...</th>\n",
       "      <td>...</td>\n",
       "      <td>...</td>\n",
       "      <td>...</td>\n",
       "      <td>...</td>\n",
       "      <td>...</td>\n",
       "      <td>...</td>\n",
       "      <td>...</td>\n",
       "      <td>...</td>\n",
       "      <td>...</td>\n",
       "      <td>...</td>\n",
       "      <td>...</td>\n",
       "      <td>...</td>\n",
       "      <td>...</td>\n",
       "      <td>...</td>\n",
       "      <td>...</td>\n",
       "      <td>...</td>\n",
       "      <td>...</td>\n",
       "      <td>...</td>\n",
       "      <td>...</td>\n",
       "      <td>...</td>\n",
       "      <td>...</td>\n",
       "    </tr>\n",
       "    <tr>\n",
       "      <th>543104</th>\n",
       "      <td>5f037d9ddb23a0223d937b30</td>\n",
       "      <td>2</td>\n",
       "      <td>1</td>\n",
       "      <td>BOGOTA</td>\n",
       "      <td>2</td>\n",
       "      <td>2</td>\n",
       "      <td>24</td>\n",
       "      <td>2</td>\n",
       "      <td>1.0</td>\n",
       "      <td>1.0</td>\n",
       "      <td>...</td>\n",
       "      <td>4.799466e+05</td>\n",
       "      <td>123416.961118</td>\n",
       "      <td>280522.423188</td>\n",
       "      <td>0</td>\n",
       "      <td>0</td>\n",
       "      <td>0</td>\n",
       "      <td>0</td>\n",
       "      <td>386.721150</td>\n",
       "      <td>11</td>\n",
       "      <td>386.721150</td>\n",
       "    </tr>\n",
       "    <tr>\n",
       "      <th>543105</th>\n",
       "      <td>e575d8c70d587b3be3f45a6f</td>\n",
       "      <td>1</td>\n",
       "      <td>1</td>\n",
       "      <td>BOGOTA</td>\n",
       "      <td>3</td>\n",
       "      <td>2</td>\n",
       "      <td>36</td>\n",
       "      <td>1</td>\n",
       "      <td>1.0</td>\n",
       "      <td>1.0</td>\n",
       "      <td>...</td>\n",
       "      <td>1.706250e+06</td>\n",
       "      <td>123416.961118</td>\n",
       "      <td>280522.423188</td>\n",
       "      <td>0</td>\n",
       "      <td>0</td>\n",
       "      <td>0</td>\n",
       "      <td>0</td>\n",
       "      <td>341.056945</td>\n",
       "      <td>11</td>\n",
       "      <td>341.056945</td>\n",
       "    </tr>\n",
       "    <tr>\n",
       "      <th>543106</th>\n",
       "      <td>e575d8c70d587b3be3f45a6f</td>\n",
       "      <td>2</td>\n",
       "      <td>1</td>\n",
       "      <td>BOGOTA</td>\n",
       "      <td>3</td>\n",
       "      <td>1</td>\n",
       "      <td>41</td>\n",
       "      <td>2</td>\n",
       "      <td>1.0</td>\n",
       "      <td>1.0</td>\n",
       "      <td>...</td>\n",
       "      <td>1.706250e+06</td>\n",
       "      <td>123416.961118</td>\n",
       "      <td>280522.423188</td>\n",
       "      <td>0</td>\n",
       "      <td>0</td>\n",
       "      <td>0</td>\n",
       "      <td>0</td>\n",
       "      <td>341.056945</td>\n",
       "      <td>11</td>\n",
       "      <td>341.056945</td>\n",
       "    </tr>\n",
       "    <tr>\n",
       "      <th>543107</th>\n",
       "      <td>e575d8c70d587b3be3f45a6f</td>\n",
       "      <td>3</td>\n",
       "      <td>1</td>\n",
       "      <td>BOGOTA</td>\n",
       "      <td>3</td>\n",
       "      <td>1</td>\n",
       "      <td>8</td>\n",
       "      <td>3</td>\n",
       "      <td>NaN</td>\n",
       "      <td>NaN</td>\n",
       "      <td>...</td>\n",
       "      <td>1.706250e+06</td>\n",
       "      <td>123416.961118</td>\n",
       "      <td>280522.423188</td>\n",
       "      <td>0</td>\n",
       "      <td>0</td>\n",
       "      <td>0</td>\n",
       "      <td>0</td>\n",
       "      <td>341.056945</td>\n",
       "      <td>11</td>\n",
       "      <td>341.056945</td>\n",
       "    </tr>\n",
       "    <tr>\n",
       "      <th>543108</th>\n",
       "      <td>e575d8c70d587b3be3f45a6f</td>\n",
       "      <td>4</td>\n",
       "      <td>1</td>\n",
       "      <td>BOGOTA</td>\n",
       "      <td>3</td>\n",
       "      <td>2</td>\n",
       "      <td>0</td>\n",
       "      <td>3</td>\n",
       "      <td>NaN</td>\n",
       "      <td>NaN</td>\n",
       "      <td>...</td>\n",
       "      <td>1.706250e+06</td>\n",
       "      <td>123416.961118</td>\n",
       "      <td>280522.423188</td>\n",
       "      <td>0</td>\n",
       "      <td>0</td>\n",
       "      <td>0</td>\n",
       "      <td>0</td>\n",
       "      <td>341.056945</td>\n",
       "      <td>11</td>\n",
       "      <td>341.056945</td>\n",
       "    </tr>\n",
       "  </tbody>\n",
       "</table>\n",
       "<p>543109 rows × 157 columns</p>\n",
       "</div>"
      ],
      "text/plain": [
       "                              id  Orden  Clase_ind Dominio_ind  Estrato1  \\\n",
       "0       8d0193e328305a042001a35f      2          1    MEDELLIN         2   \n",
       "1       8d0193e328305a042001a35f      5          1    MEDELLIN         2   \n",
       "2       8d0193e328305a042001a35f      1          1    MEDELLIN         2   \n",
       "3       8d0193e328305a042001a35f      4          1    MEDELLIN         2   \n",
       "4       8d0193e328305a042001a35f      3          1    MEDELLIN         2   \n",
       "...                          ...    ...        ...         ...       ...   \n",
       "543104  5f037d9ddb23a0223d937b30      2          1      BOGOTA         2   \n",
       "543105  e575d8c70d587b3be3f45a6f      1          1      BOGOTA         3   \n",
       "543106  e575d8c70d587b3be3f45a6f      2          1      BOGOTA         3   \n",
       "543107  e575d8c70d587b3be3f45a6f      3          1      BOGOTA         3   \n",
       "543108  e575d8c70d587b3be3f45a6f      4          1      BOGOTA         3   \n",
       "\n",
       "        P6020  P6040  P6050  P6090  P6100  ...       Ingpcug             Li  \\\n",
       "0           2     38      2    1.0    1.0  ...  5.816661e+05  122809.534158   \n",
       "1           1      3      3    NaN    NaN  ...  5.816661e+05  122809.534158   \n",
       "2           1     41      1    1.0    1.0  ...  5.816661e+05  122809.534158   \n",
       "3           1      3      3    NaN    NaN  ...  5.816661e+05  122809.534158   \n",
       "4           1     11      3    NaN    NaN  ...  5.816661e+05  122809.534158   \n",
       "...       ...    ...    ...    ...    ...  ...           ...            ...   \n",
       "543104      2     24      2    1.0    1.0  ...  4.799466e+05  123416.961118   \n",
       "543105      2     36      1    1.0    1.0  ...  1.706250e+06  123416.961118   \n",
       "543106      1     41      2    1.0    1.0  ...  1.706250e+06  123416.961118   \n",
       "543107      1      8      3    NaN    NaN  ...  1.706250e+06  123416.961118   \n",
       "543108      2      0      3    NaN    NaN  ...  1.706250e+06  123416.961118   \n",
       "\n",
       "                   Lp  Pobre  Indigente  Npobres  Nindigentes  Fex_c_hogar  \\\n",
       "0       289878.247150      0          0        0            0   127.222038   \n",
       "1       289878.247150      0          0        0            0   127.222038   \n",
       "2       289878.247150      0          0        0            0   127.222038   \n",
       "3       289878.247150      0          0        0            0   127.222038   \n",
       "4       289878.247150      0          0        0            0   127.222038   \n",
       "...               ...    ...        ...      ...          ...          ...   \n",
       "543104  280522.423188      0          0        0            0   386.721150   \n",
       "543105  280522.423188      0          0        0            0   341.056945   \n",
       "543106  280522.423188      0          0        0            0   341.056945   \n",
       "543107  280522.423188      0          0        0            0   341.056945   \n",
       "543108  280522.423188      0          0        0            0   341.056945   \n",
       "\n",
       "        Depto_hogar  Fex_dpto_hogar  \n",
       "0                 5      146.251790  \n",
       "1                 5      146.251790  \n",
       "2                 5      146.251790  \n",
       "3                 5      146.251790  \n",
       "4                 5      146.251790  \n",
       "...             ...             ...  \n",
       "543104           11      386.721150  \n",
       "543105           11      341.056945  \n",
       "543106           11      341.056945  \n",
       "543107           11      341.056945  \n",
       "543108           11      341.056945  \n",
       "\n",
       "[543109 rows x 157 columns]"
      ]
     },
     "execution_count": 47,
     "metadata": {},
     "output_type": "execute_result"
    }
   ],
   "source": [
    "train_merged"
   ]
  },
  {
   "cell_type": "markdown",
   "metadata": {},
   "source": [
    "**Creación y transformación de variables**"
   ]
  },
  {
   "cell_type": "markdown",
   "metadata": {},
   "source": [
    "Cuestiones a tener en cuenta: \n",
    "\n",
    "Se cambió el formato de las variables \"P6210\", \"P6100\", \"P6585s3\", \"P6585s1\" de float a entero.\n",
    "Hacerlo también para las bases de testeo"
   ]
  },
  {
   "cell_type": "code",
   "execution_count": 48,
   "metadata": {},
   "outputs": [
    {
     "name": "stdout",
     "output_type": "stream",
     "text": [
      "['id', 'Orden', 'Clase_ind', 'Dominio_ind', 'Estrato1', 'P6020', 'P6040', 'P6050', 'P6090', 'P6100', 'P6210', 'P6210s1', 'P6240', 'Oficio', 'P6426', 'P6430', 'P6500', 'P6510', 'P6510s1', 'P6510s2', 'P6545', 'P6545s1', 'P6545s2', 'P6580', 'P6580s1', 'P6580s2', 'P6585s1', 'P6585s1a1', 'P6585s1a2', 'P6585s2', 'P6585s2a1', 'P6585s2a2', 'P6585s3', 'P6585s3a1', 'P6585s3a2', 'P6585s4', 'P6585s4a1', 'P6585s4a2', 'P6590', 'P6590s1', 'P6600', 'P6600s1', 'P6610', 'P6610s1', 'P6620', 'P6620s1', 'P6630s1', 'P6630s1a1', 'P6630s2', 'P6630s2a1', 'P6630s3', 'P6630s3a1', 'P6630s4', 'P6630s4a1', 'P6630s6', 'P6630s6a1', 'P6750', 'P6760', 'P550', 'P6800', 'P6870', 'P6920', 'P7040', 'P7045', 'P7050', 'P7070', 'P7090', 'P7110', 'P7120', 'P7140s1', 'P7140s2', 'P7150', 'P7160', 'P7310', 'P7350', 'P7422', 'P7422s1', 'P7472', 'P7472s1', 'P7495', 'P7500s1', 'P7500s1a1', 'P7500s2', 'P7500s2a1', 'P7500s3', 'P7500s3a1', 'P7505', 'P7510s1', 'P7510s1a1', 'P7510s2', 'P7510s2a1', 'P7510s3', 'P7510s3a1', 'P7510s5', 'P7510s5a1', 'P7510s6', 'P7510s6a1', 'P7510s7', 'P7510s7a1', 'Pet', 'Oc', 'Des', 'Ina', 'Impa', 'Isa', 'Ie', 'Imdi', 'Iof1', 'Iof2', 'Iof3h', 'Iof3i', 'Iof6', 'Cclasnr2', 'Cclasnr3', 'Cclasnr4', 'Cclasnr5', 'Cclasnr6', 'Cclasnr7', 'Cclasnr8', 'Cclasnr11', 'Impaes', 'Isaes', 'Iees', 'Imdies', 'Iof1es', 'Iof2es', 'Iof3hes', 'Iof3ies', 'Iof6es', 'Ingtotob', 'Ingtotes', 'Ingtot', 'Fex_c_ind', 'Depto_ind', 'Fex_dpto_ind', 'Clase_hogar', 'Dominio_hogar', 'P5000', 'P5010', 'P5090', 'P5100', 'P5130', 'P5140', 'Nper', 'Npersug', 'Ingtotug', 'Ingtotugarr', 'Ingpcug', 'Li', 'Lp', 'Pobre', 'Indigente', 'Npobres', 'Nindigentes', 'Fex_c_hogar', 'Depto_hogar', 'Fex_dpto_hogar']\n"
     ]
    }
   ],
   "source": [
    "columnas = train_merged.columns.tolist()\n",
    "print(columnas)\n"
   ]
  },
  {
   "cell_type": "code",
   "execution_count": 49,
   "metadata": {},
   "outputs": [],
   "source": [
    "train_merged[\"hacin\"] = train_merged[\"P5010\"] / train_merged[\"Nper\"]"
   ]
  },
  {
   "cell_type": "code",
   "execution_count": 50,
   "metadata": {},
   "outputs": [
    {
     "name": "stdout",
     "output_type": "stream",
     "text": [
      "[ 3.  2.  5.  4.  1.  6. nan  9.]\n"
     ]
    }
   ],
   "source": [
    "print(train_merged[\"P6210\"].unique())"
   ]
  },
  {
   "cell_type": "code",
   "execution_count": 51,
   "metadata": {},
   "outputs": [
    {
     "name": "stdout",
     "output_type": "stream",
     "text": [
      "[3 2 5 4 1 6 0 9]\n"
     ]
    }
   ],
   "source": [
    "# Transformo los valores de P6210\n",
    "train_merged[\"P6210\"] = train_merged[\"P6210\"].fillna(0).astype(int) \n",
    "print(train_merged[\"P6210\"].unique())"
   ]
  },
  {
   "cell_type": "code",
   "execution_count": 52,
   "metadata": {},
   "outputs": [],
   "source": [
    "# Obtengo el máximo nivel educativo por hogar\n",
    "educacion_max_hogar = train_merged.groupby(\"id\")[\"P6210\"].max().reset_index()\n",
    "\n",
    "# Renombro la columna\n",
    "educacion_max_hogar.rename(columns={\"P6210\": \"educ_max\"}, inplace=True)\n"
   ]
  },
  {
   "cell_type": "code",
   "execution_count": 53,
   "metadata": {},
   "outputs": [],
   "source": [
    "train_merged = train_merged.merge(educacion_max_hogar, on=\"id\", how=\"left\")"
   ]
  },
  {
   "cell_type": "code",
   "execution_count": 54,
   "metadata": {},
   "outputs": [
    {
     "name": "stdout",
     "output_type": "stream",
     "text": [
      "                         id  P6210  educ_max\n",
      "0  8d0193e328305a042001a35f      3         5\n",
      "1  8d0193e328305a042001a35f      2         5\n",
      "2  8d0193e328305a042001a35f      5         5\n",
      "3  8d0193e328305a042001a35f      2         5\n",
      "4  8d0193e328305a042001a35f      4         5\n",
      "5  cf7491d7f2cc9c216bd009e7      1         4\n",
      "6  cf7491d7f2cc9c216bd009e7      1         4\n",
      "7  cf7491d7f2cc9c216bd009e7      4         4\n",
      "8  cf7491d7f2cc9c216bd009e7      3         4\n",
      "9  d90a57f64d2a84dbacbed2a5      4         6\n"
     ]
    }
   ],
   "source": [
    "# Chequeo que se haya creado bien la variable de educación máxima por hogar\n",
    "print(train_merged[[\"id\", \"P6210\", \"educ_max\"]].head(10))"
   ]
  },
  {
   "cell_type": "code",
   "execution_count": 55,
   "metadata": {},
   "outputs": [
    {
     "name": "stdout",
     "output_type": "stream",
     "text": [
      "[ 1. nan  3.  2.  9.]\n"
     ]
    }
   ],
   "source": [
    "# Miro como está codificada P6100 (afiliacion a SS en salud)\n",
    "print(train_merged[\"P6100\"].unique())"
   ]
  },
  {
   "cell_type": "code",
   "execution_count": 56,
   "metadata": {},
   "outputs": [
    {
     "name": "stdout",
     "output_type": "stream",
     "text": [
      "[1 0 3 2 9]\n"
     ]
    }
   ],
   "source": [
    "# Transformo los valores de P6100\n",
    "train_merged[\"P6100\"] = train_merged[\"P6100\"].fillna(0).astype(int) \n",
    "print(train_merged[\"P6100\"].unique())"
   ]
  },
  {
   "cell_type": "code",
   "execution_count": 57,
   "metadata": {},
   "outputs": [],
   "source": [
    "# Creo dummy con personas de régimen de salud subsidiado\n",
    "train_merged[\"salud_subsi\"] = (train_merged[\"P6100\"] == 3).astype(int)\n"
   ]
  },
  {
   "cell_type": "code",
   "execution_count": null,
   "metadata": {},
   "outputs": [
    {
     "name": "stdout",
     "output_type": "stream",
     "text": [
      "[ 1. nan  2.  9.]\n"
     ]
    }
   ],
   "source": [
    "# Miro como está codificada P6585s3 (recibió subsidio familiar)\n",
    "print(train_merged[\"P6585s3\"].unique())"
   ]
  },
  {
   "cell_type": "code",
   "execution_count": 59,
   "metadata": {},
   "outputs": [
    {
     "name": "stdout",
     "output_type": "stream",
     "text": [
      "[1 0 2 9]\n"
     ]
    }
   ],
   "source": [
    "# Transformo los valores de P6585s3\n",
    "train_merged[\"P6585s3\"] = train_merged[\"P6585s3\"].fillna(0).astype(int) \n",
    "print(train_merged[\"P6585s3\"].unique())"
   ]
  },
  {
   "cell_type": "code",
   "execution_count": 60,
   "metadata": {},
   "outputs": [],
   "source": [
    "# Asigno valor 1 a quienes reportan que sí y 0 en otro caso\n",
    "train_merged[\"fam_subsi\"] = (train_merged[\"P6585s3\"] == 1).astype(int)"
   ]
  },
  {
   "cell_type": "code",
   "execution_count": null,
   "metadata": {},
   "outputs": [
    {
     "name": "stdout",
     "output_type": "stream",
     "text": [
      "[ 2. nan  1.  9.]\n"
     ]
    }
   ],
   "source": [
    "# Miro como está codificada P6585s1 (recibió subsidio de alimentación)\n",
    "print(train_merged[\"P6585s1\"].unique())"
   ]
  },
  {
   "cell_type": "code",
   "execution_count": 62,
   "metadata": {},
   "outputs": [
    {
     "name": "stdout",
     "output_type": "stream",
     "text": [
      "[2 0 1 9]\n"
     ]
    }
   ],
   "source": [
    "# Transformo los valores de P6585s1\n",
    "train_merged[\"P6585s1\"] = train_merged[\"P6585s1\"].fillna(0).astype(int) \n",
    "print(train_merged[\"P6585s1\"].unique())"
   ]
  },
  {
   "cell_type": "code",
   "execution_count": 63,
   "metadata": {},
   "outputs": [],
   "source": [
    "# Asigno valor 1 a quienes reportan que sí y 0 en otro caso\n",
    "train_merged[\"alim_subsi\"] = (train_merged[\"P6585s1\"] == 1).astype(int)"
   ]
  },
  {
   "cell_type": "code",
   "execution_count": null,
   "metadata": {},
   "outputs": [],
   "source": [
    "# Selecciono las variables a utilizar para estimar pobreza con el primer approach\n",
    "train_pobreza = train_merged[[\"id\", \"Orden\", \"Ingtotug\", \"hacin\",\"Clase_hogar\", \"educ_max\", \"salud_subsi\", \"fam_subsi\", \"alim_subsi\"]]"
   ]
  },
  {
   "cell_type": "code",
   "execution_count": 68,
   "metadata": {},
   "outputs": [],
   "source": [
    "# Selecciono las variables a utilizar para estimar pobreza con el segundo approach\n",
    "\n",
    "train_ingreso = train_merged[[\"Ingtot\", \"P6040\", \"P6020\", \"P6920\", \"P6800\", \"P6210\", \"P6426\", \"P6920\"]]\n",
    "# \"P6040\": edad, \n",
    "# \"P6020\": sexo, \n",
    "# \"P6920\": cotiza pension, \n",
    "# \"P6800\": horas de trabajo semanal normal, \n",
    "# \"P6210\": máximo nivel educativo, \n",
    "# \"P6426\": antigüedad, \n",
    "# \"P6920\": tipo de ocupación"
   ]
  }
 ],
 "metadata": {
  "kernelspec": {
   "display_name": "base",
   "language": "python",
   "name": "python3"
  },
  "language_info": {
   "codemirror_mode": {
    "name": "ipython",
    "version": 3
   },
   "file_extension": ".py",
   "mimetype": "text/x-python",
   "name": "python",
   "nbconvert_exporter": "python",
   "pygments_lexer": "ipython3",
   "version": "3.12.3"
  }
 },
 "nbformat": 4,
 "nbformat_minor": 2
}
