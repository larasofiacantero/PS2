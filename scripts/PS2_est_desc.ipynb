{
 "cells": [
  {
   "cell_type": "code",
   "execution_count": 1,
   "metadata": {},
   "outputs": [],
   "source": [
    "import os\n",
    "import pandas as pd\n",
    "import zipfile"
   ]
  },
  {
   "cell_type": "code",
   "execution_count": 2,
   "metadata": {},
   "outputs": [],
   "source": [
    "# Seteo la ruta del repositorio (reemplazarla por la propia)\n",
    "ruta = r\"C:\\Users\\Sofia\\OneDrive\\Escritorio\\ML\\PS2\""
   ]
  },
  {
   "cell_type": "code",
   "execution_count": 3,
   "metadata": {},
   "outputs": [],
   "source": [
    "# Fijo rutas para cada carpeta del repositorio\n",
    "document_path = os.path.join(ruta, \"document\")\n",
    "scripts_path = os.path.join(ruta, \"scripts\")\n",
    "stores_path = os.path.join(ruta, \"stores\")\n",
    "views_path = os.path.join(ruta, \"views\")\n",
    "\n",
    "zip_path = os.path.join(stores_path, \"mlunlp-2024-ps-2.zip\")\n"
   ]
  },
  {
   "cell_type": "code",
   "execution_count": 4,
   "metadata": {},
   "outputs": [],
   "source": [
    "train_hogares_path = \"train_hogares.csv\"\n",
    "train_personas_path = \"train_personas.csv\"\n",
    "test_hogares_path = \"test_hogares.csv\"\n",
    "test_personas_path = \"test_personas.csv\""
   ]
  },
  {
   "cell_type": "code",
   "execution_count": 5,
   "metadata": {},
   "outputs": [],
   "source": [
    "with zipfile.ZipFile(zip_path, 'r') as z:\n",
    "    with z.open(train_hogares_path) as f:\n",
    "        train_hogares = pd.read_csv(f)\n",
    "\n",
    "with zipfile.ZipFile(zip_path, 'r') as z:\n",
    "    with z.open(train_personas_path) as f:\n",
    "        train_personas = pd.read_csv(f)\n",
    "\n",
    "with zipfile.ZipFile(zip_path, 'r') as z:\n",
    "    with z.open(test_hogares_path) as f:\n",
    "        test_hogares = pd.read_csv(f)\n",
    "\n",
    "with zipfile.ZipFile(zip_path, 'r') as z:\n",
    "    with z.open(test_personas_path) as f:\n",
    "        test_personas = pd.read_csv(f)"
   ]
  },
  {
   "cell_type": "code",
   "execution_count": 6,
   "metadata": {},
   "outputs": [],
   "source": [
    "train_merged = pd.merge(train_personas, train_hogares, on='id', how= \"inner\", suffixes=('_ind', '_hogar'))  \n",
    "test_merged = pd.merge(test_personas, test_hogares, on='id', how= \"inner\", suffixes=('_ind', '_hogar'))  "
   ]
  },
  {
   "cell_type": "markdown",
   "metadata": {},
   "source": [
    "**Creación y transformación de variables**"
   ]
  },
  {
   "cell_type": "code",
   "execution_count": 7,
   "metadata": {},
   "outputs": [
    {
     "name": "stdout",
     "output_type": "stream",
     "text": [
      "['id', 'Orden', 'Clase_ind', 'Dominio_ind', 'Estrato1', 'P6020', 'P6040', 'P6050', 'P6090', 'P6100', 'P6210', 'P6210s1', 'P6240', 'Oficio', 'P6426', 'P6430', 'P6500', 'P6510', 'P6510s1', 'P6510s2', 'P6545', 'P6545s1', 'P6545s2', 'P6580', 'P6580s1', 'P6580s2', 'P6585s1', 'P6585s1a1', 'P6585s1a2', 'P6585s2', 'P6585s2a1', 'P6585s2a2', 'P6585s3', 'P6585s3a1', 'P6585s3a2', 'P6585s4', 'P6585s4a1', 'P6585s4a2', 'P6590', 'P6590s1', 'P6600', 'P6600s1', 'P6610', 'P6610s1', 'P6620', 'P6620s1', 'P6630s1', 'P6630s1a1', 'P6630s2', 'P6630s2a1', 'P6630s3', 'P6630s3a1', 'P6630s4', 'P6630s4a1', 'P6630s6', 'P6630s6a1', 'P6750', 'P6760', 'P550', 'P6800', 'P6870', 'P6920', 'P7040', 'P7045', 'P7050', 'P7070', 'P7090', 'P7110', 'P7120', 'P7140s1', 'P7140s2', 'P7150', 'P7160', 'P7310', 'P7350', 'P7422', 'P7422s1', 'P7472', 'P7472s1', 'P7495', 'P7500s1', 'P7500s1a1', 'P7500s2', 'P7500s2a1', 'P7500s3', 'P7500s3a1', 'P7505', 'P7510s1', 'P7510s1a1', 'P7510s2', 'P7510s2a1', 'P7510s3', 'P7510s3a1', 'P7510s5', 'P7510s5a1', 'P7510s6', 'P7510s6a1', 'P7510s7', 'P7510s7a1', 'Pet', 'Oc', 'Des', 'Ina', 'Impa', 'Isa', 'Ie', 'Imdi', 'Iof1', 'Iof2', 'Iof3h', 'Iof3i', 'Iof6', 'Cclasnr2', 'Cclasnr3', 'Cclasnr4', 'Cclasnr5', 'Cclasnr6', 'Cclasnr7', 'Cclasnr8', 'Cclasnr11', 'Impaes', 'Isaes', 'Iees', 'Imdies', 'Iof1es', 'Iof2es', 'Iof3hes', 'Iof3ies', 'Iof6es', 'Ingtotob', 'Ingtotes', 'Ingtot', 'Fex_c_ind', 'Depto_ind', 'Fex_dpto_ind', 'Clase_hogar', 'Dominio_hogar', 'P5000', 'P5010', 'P5090', 'P5100', 'P5130', 'P5140', 'Nper', 'Npersug', 'Ingtotug', 'Ingtotugarr', 'Ingpcug', 'Li', 'Lp', 'Pobre', 'Indigente', 'Npobres', 'Nindigentes', 'Fex_c_hogar', 'Depto_hogar', 'Fex_dpto_hogar']\n",
      "['id', 'Orden', 'Clase_ind', 'Dominio_ind', 'P6020', 'P6040', 'P6050', 'P6090', 'P6100', 'P6210', 'P6210s1', 'P6240', 'Oficio', 'P6426', 'P6430', 'P6510', 'P6545', 'P6580', 'P6585s1', 'P6585s2', 'P6585s3', 'P6585s4', 'P6590', 'P6600', 'P6610', 'P6620', 'P6630s1', 'P6630s2', 'P6630s3', 'P6630s4', 'P6630s6', 'P6800', 'P6870', 'P6920', 'P7040', 'P7045', 'P7050', 'P7090', 'P7110', 'P7120', 'P7150', 'P7160', 'P7310', 'P7350', 'P7422', 'P7472', 'P7495', 'P7500s2', 'P7500s3', 'P7505', 'P7510s1', 'P7510s2', 'P7510s3', 'P7510s5', 'P7510s6', 'P7510s7', 'Pet', 'Oc', 'Des', 'Ina', 'Fex_c_ind', 'Depto_ind', 'Fex_dpto_ind', 'Clase_hogar', 'Dominio_hogar', 'P5000', 'P5010', 'P5090', 'P5100', 'P5130', 'P5140', 'Nper', 'Npersug', 'Li', 'Lp', 'Fex_c_hogar', 'Depto_hogar', 'Fex_dpto_hogar']\n"
     ]
    }
   ],
   "source": [
    "columnas = train_merged.columns.tolist()\n",
    "print(columnas)\n",
    "\n",
    "columnas2 = test_merged.columns.tolist()\n",
    "print(columnas2)"
   ]
  },
  {
   "cell_type": "code",
   "execution_count": 8,
   "metadata": {},
   "outputs": [],
   "source": [
    "# Creo la variable hacin\n",
    "train_merged[\"hacin\"] = train_merged[\"Nper\"] / train_merged[\"P5010\"]\n",
    "test_merged[\"hacin\"] = test_merged[\"Nper\"] / test_merged[\"P5010\"]"
   ]
  },
  {
   "cell_type": "code",
   "execution_count": 9,
   "metadata": {},
   "outputs": [],
   "source": [
    "# Calculo la cantidad de personas por cuarto (contando la sala y el comedor pero excluyendo los baños, garajes y los cuartos utilizados para negocio)\n",
    "train_merged[\"nper_por_cuarto\"] = (train_merged[\"Nper\"] / train_merged[\"P5000\"]).astype(float)\n",
    "test_merged[\"nper_por_cuarto\"] = (train_merged[\"Nper\"] / train_merged[\"P5000\"]).astype(float)\n",
    "\n",
    "# Considero como hogares con hacinamiento crítico a aquellos con más de 3 personas por cuarto\n",
    "train_merged[\"hacin\"] = (train_merged[\"nper_por_cuarto\"] > 3).astype(int)\n",
    "test_merged[\"hacin\"] = (train_merged[\"nper_por_cuarto\"] > 3).astype(int)\n"
   ]
  },
  {
   "cell_type": "code",
   "execution_count": 10,
   "metadata": {},
   "outputs": [
    {
     "name": "stdout",
     "output_type": "stream",
     "text": [
      "[3 2 5 4 1 6 0 9]\n"
     ]
    }
   ],
   "source": [
    "# Transformo los valores de P6210\n",
    "train_merged[\"P6210\"] = train_merged[\"P6210\"].fillna(0).astype(int) \n",
    "print(train_merged[\"P6210\"].unique())\n",
    "\n",
    "test_merged[\"P6210\"] = train_merged[\"P6210\"].fillna(0).astype(int) "
   ]
  },
  {
   "cell_type": "code",
   "execution_count": 11,
   "metadata": {},
   "outputs": [],
   "source": [
    "# Obtengo el máximo nivel educativo por hogar\n",
    "educacion_max_hogar = train_merged.groupby(\"id\")[\"P6210\"].max().reset_index()\n",
    "educacion_max_hogar2 = test_merged.groupby(\"id\")[\"P6210\"].max().reset_index()\n",
    "\n",
    "# Renombro la columna\n",
    "educacion_max_hogar.rename(columns={\"P6210\": \"educ_max\"}, inplace=True)\n",
    "educacion_max_hogar2.rename(columns={\"P6210\": \"educ_max\"}, inplace=True)\n",
    "\n",
    "train_merged = train_merged.merge(educacion_max_hogar, on=\"id\", how=\"left\")\n",
    "test_merged = test_merged.merge(educacion_max_hogar2, on=\"id\", how=\"left\")"
   ]
  },
  {
   "cell_type": "code",
   "execution_count": 12,
   "metadata": {},
   "outputs": [],
   "source": [
    "# Transformo los valores de P6100\n",
    "train_merged[\"P6100\"] = train_merged[\"P6100\"].fillna(0).astype(int) \n",
    "test_merged[\"P6100\"] = test_merged[\"P6100\"].fillna(0).astype(int) \n",
    "\n",
    "# Creo dummy con personas de régimen de salud subsidiado\n",
    "test_merged[\"salud_subsi\"] = (test_merged[\"P6100\"] == 3).astype(int)\n",
    "train_merged[\"salud_subsi\"] = (train_merged[\"P6100\"] == 3).astype(int)"
   ]
  },
  {
   "cell_type": "code",
   "execution_count": 13,
   "metadata": {},
   "outputs": [],
   "source": [
    "# Transformo los valores de P6585s3\n",
    "train_merged[\"P6585s3\"] = train_merged[\"P6585s3\"].fillna(0).astype(int) \n",
    "test_merged[\"P6585s3\"] = test_merged[\"P6585s3\"].fillna(0).astype(int) \n",
    "\n",
    "# Asigno valor 1 a quienes reportan que sí y 0 en otro caso\n",
    "train_merged[\"fam_subsi\"] = (train_merged[\"P6585s3\"] == 1).astype(int)\n",
    "\n",
    "test_merged[\"fam_subsi\"] = (test_merged[\"P6585s3\"] == 1).astype(int)"
   ]
  },
  {
   "cell_type": "code",
   "execution_count": 14,
   "metadata": {},
   "outputs": [],
   "source": [
    "# Transformo los valores de P6585s1\n",
    "train_merged[\"P6585s1\"] = train_merged[\"P6585s1\"].fillna(0).astype(int) \n",
    "test_merged[\"P6585s1\"] = test_merged[\"P6585s1\"].fillna(0).astype(int) \n",
    "\n",
    "# Asigno valor 1 a quienes reportan que sí y 0 en otro caso\n",
    "train_merged[\"alim_subsi\"] = (train_merged[\"P6585s1\"] == 1).astype(int)\n",
    "test_merged[\"alim_subsi\"] = (test_merged[\"P6585s1\"] == 1).astype(int)"
   ]
  },
  {
   "cell_type": "code",
   "execution_count": 15,
   "metadata": {},
   "outputs": [],
   "source": [
    "# Transformo los valores de P6585s2\n",
    "train_merged[\"P6585s2\"] = train_merged[\"P6585s2\"].fillna(0).astype(int) \n",
    "test_merged[\"P6585s2\"] = test_merged[\"P6585s2\"].fillna(0).astype(int) \n",
    "\n",
    "# Asigno valor 1 a quienes reportan que sí y 0 en otro caso\n",
    "train_merged[\"transp_subsi\"] = (train_merged[\"P6585s2\"] == 1).astype(int)\n",
    "test_merged[\"transp_subsi\"] = (test_merged[\"P6585s2\"] == 1).astype(int)"
   ]
  },
  {
   "cell_type": "code",
   "execution_count": 16,
   "metadata": {},
   "outputs": [],
   "source": [
    "# Selecciono las variables que podría llegar a utilizar para estimar pobreza con el primer approach\n",
    "train_pobreza = train_merged[[\"P6040\", \"hacin\", \"educ_max\", \"salud_subsi\", \"P6430\", \"Lp\", \"Pobre\"]]\n",
    "test_pobreza = test_merged[[\"P6040\", \"hacin\", \"educ_max\", \"salud_subsi\", \"P6430\", \"Lp\"]]"
   ]
  },
  {
   "cell_type": "code",
   "execution_count": 17,
   "metadata": {},
   "outputs": [],
   "source": [
    "# Selecciono las variables que podría llegar a utilizar para estimar pobreza con el segundo approach\n",
    "\n",
    "train_ingreso = train_merged[[\"hacin\", \"P6040\", \"P6800\", \"P6210\", \"educ_max\",\"Ingtot\", \"P6426\", \"P6430\", \"P7050\", \"Lp\"]]\n",
    "test_ingreso = test_merged[[ \"P6020\", \"hacin\", \"P6040\", \"P6800\", \"P6210\", \"educ_max\", \"P6426\", \"P6430\", \"P7050\", \"Lp\"]]\n",
    "\n",
    "\n",
    "# \"P6040\": edad, \n",
    "# \"P6020\": sexo, \n",
    "# \"P6920\": cotiza pension, \n",
    "# \"P6800\": horas de trabajo semanal normal, \n",
    "# \"P6210\": máximo nivel educativo, \n",
    "# \"P6426\": antigüedad, \n",
    "# \"P6920\": tipo de ocupación"
   ]
  },
  {
   "cell_type": "markdown",
   "metadata": {},
   "source": [
    "**Estadística descriptiva**"
   ]
  },
  {
   "cell_type": "code",
   "execution_count": 18,
   "metadata": {},
   "outputs": [
    {
     "name": "stderr",
     "output_type": "stream",
     "text": [
      "C:\\Users\\Sofia\\AppData\\Local\\Temp\\ipykernel_21532\\59501054.py:19: SettingWithCopyWarning: \n",
      "A value is trying to be set on a copy of a slice from a DataFrame\n",
      "\n",
      "See the caveats in the documentation: https://pandas.pydata.org/pandas-docs/stable/user_guide/indexing.html#returning-a-view-versus-a-copy\n",
      "  missing_predictors.fillna(predictors.mean(), inplace=True)  # Imputar media en los predictores\n",
      "C:\\Users\\Sofia\\AppData\\Local\\Temp\\ipykernel_21532\\59501054.py:19: SettingWithCopyWarning: \n",
      "A value is trying to be set on a copy of a slice from a DataFrame\n",
      "\n",
      "See the caveats in the documentation: https://pandas.pydata.org/pandas-docs/stable/user_guide/indexing.html#returning-a-view-versus-a-copy\n",
      "  missing_predictors.fillna(predictors.mean(), inplace=True)  # Imputar media en los predictores\n",
      "C:\\Users\\Sofia\\AppData\\Local\\Temp\\ipykernel_21532\\59501054.py:19: SettingWithCopyWarning: \n",
      "A value is trying to be set on a copy of a slice from a DataFrame\n",
      "\n",
      "See the caveats in the documentation: https://pandas.pydata.org/pandas-docs/stable/user_guide/indexing.html#returning-a-view-versus-a-copy\n",
      "  missing_predictors.fillna(predictors.mean(), inplace=True)  # Imputar media en los predictores\n",
      "C:\\Users\\Sofia\\AppData\\Local\\Temp\\ipykernel_21532\\59501054.py:19: SettingWithCopyWarning: \n",
      "A value is trying to be set on a copy of a slice from a DataFrame\n",
      "\n",
      "See the caveats in the documentation: https://pandas.pydata.org/pandas-docs/stable/user_guide/indexing.html#returning-a-view-versus-a-copy\n",
      "  missing_predictors.fillna(predictors.mean(), inplace=True)  # Imputar media en los predictores\n",
      "C:\\Users\\Sofia\\AppData\\Local\\Temp\\ipykernel_21532\\59501054.py:19: SettingWithCopyWarning: \n",
      "A value is trying to be set on a copy of a slice from a DataFrame\n",
      "\n",
      "See the caveats in the documentation: https://pandas.pydata.org/pandas-docs/stable/user_guide/indexing.html#returning-a-view-versus-a-copy\n",
      "  missing_predictors.fillna(predictors.mean(), inplace=True)  # Imputar media en los predictores\n",
      "C:\\Users\\Sofia\\AppData\\Local\\Temp\\ipykernel_21532\\59501054.py:19: SettingWithCopyWarning: \n",
      "A value is trying to be set on a copy of a slice from a DataFrame\n",
      "\n",
      "See the caveats in the documentation: https://pandas.pydata.org/pandas-docs/stable/user_guide/indexing.html#returning-a-view-versus-a-copy\n",
      "  missing_predictors.fillna(predictors.mean(), inplace=True)  # Imputar media en los predictores\n",
      "C:\\Users\\Sofia\\AppData\\Local\\Temp\\ipykernel_21532\\59501054.py:19: SettingWithCopyWarning: \n",
      "A value is trying to be set on a copy of a slice from a DataFrame\n",
      "\n",
      "See the caveats in the documentation: https://pandas.pydata.org/pandas-docs/stable/user_guide/indexing.html#returning-a-view-versus-a-copy\n",
      "  missing_predictors.fillna(predictors.mean(), inplace=True)  # Imputar media en los predictores\n",
      "C:\\Users\\Sofia\\AppData\\Local\\Temp\\ipykernel_21532\\59501054.py:19: SettingWithCopyWarning: \n",
      "A value is trying to be set on a copy of a slice from a DataFrame\n",
      "\n",
      "See the caveats in the documentation: https://pandas.pydata.org/pandas-docs/stable/user_guide/indexing.html#returning-a-view-versus-a-copy\n",
      "  missing_predictors.fillna(predictors.mean(), inplace=True)  # Imputar media en los predictores\n",
      "C:\\Users\\Sofia\\AppData\\Local\\Temp\\ipykernel_21532\\59501054.py:19: SettingWithCopyWarning: \n",
      "A value is trying to be set on a copy of a slice from a DataFrame\n",
      "\n",
      "See the caveats in the documentation: https://pandas.pydata.org/pandas-docs/stable/user_guide/indexing.html#returning-a-view-versus-a-copy\n",
      "  missing_predictors.fillna(predictors.mean(), inplace=True)  # Imputar media en los predictores\n",
      "C:\\Users\\Sofia\\AppData\\Local\\Temp\\ipykernel_21532\\59501054.py:19: SettingWithCopyWarning: \n",
      "A value is trying to be set on a copy of a slice from a DataFrame\n",
      "\n",
      "See the caveats in the documentation: https://pandas.pydata.org/pandas-docs/stable/user_guide/indexing.html#returning-a-view-versus-a-copy\n",
      "  missing_predictors.fillna(predictors.mean(), inplace=True)  # Imputar media en los predictores\n"
     ]
    },
    {
     "name": "stdout",
     "output_type": "stream",
     "text": [
      "Imputación completada.\n"
     ]
    },
    {
     "name": "stderr",
     "output_type": "stream",
     "text": [
      "C:\\Users\\Sofia\\AppData\\Local\\Temp\\ipykernel_21532\\59501054.py:19: SettingWithCopyWarning: \n",
      "A value is trying to be set on a copy of a slice from a DataFrame\n",
      "\n",
      "See the caveats in the documentation: https://pandas.pydata.org/pandas-docs/stable/user_guide/indexing.html#returning-a-view-versus-a-copy\n",
      "  missing_predictors.fillna(predictors.mean(), inplace=True)  # Imputar media en los predictores\n"
     ]
    }
   ],
   "source": [
    "from sklearn.linear_model import LinearRegression\n",
    "import pandas as pd\n",
    "\n",
    "# Función para imputar valores NaN usando regresión\n",
    "def impute_with_regression(df):\n",
    "    for col in df.columns:\n",
    "        if df[col].isnull().any():\n",
    "            # Separar datos completos e incompletos\n",
    "            train_complete = df[df[col].notnull()]\n",
    "            train_missing = df[df[col].isnull()]\n",
    "            \n",
    "            # Seleccionar predictores no nulos\n",
    "            predictors = train_complete.drop(columns=[col]).dropna(axis=1)\n",
    "            if predictors.empty:  # Si no hay predictores disponibles\n",
    "                continue\n",
    "            \n",
    "            # Imputar valores faltantes en los predictores de train_missing\n",
    "            missing_predictors = train_missing[predictors.columns]\n",
    "            missing_predictors.fillna(predictors.mean(), inplace=True)  # Imputar media en los predictores\n",
    "            \n",
    "            # Entrenar el modelo predictivo\n",
    "            model = LinearRegression()\n",
    "            model.fit(predictors, train_complete[col])\n",
    "            \n",
    "            # Predecir los valores faltantes\n",
    "            df.loc[df[col].isnull(), col] = model.predict(missing_predictors)\n",
    "    return df\n",
    "\n",
    "# Convertir las bases a DataFrames si no lo son\n",
    "train_pobreza = pd.DataFrame(train_pobreza)\n",
    "test_pobreza = pd.DataFrame(test_pobreza)\n",
    "train_ingreso = pd.DataFrame(train_ingreso)\n",
    "test_ingreso = pd.DataFrame(test_ingreso)\n",
    "\n",
    "# Aplicar la imputación a cada base\n",
    "train_pobreza = impute_with_regression(train_pobreza)\n",
    "test_pobreza = impute_with_regression(test_pobreza)\n",
    "train_ingreso = impute_with_regression(train_ingreso)\n",
    "test_ingreso = impute_with_regression(test_ingreso)\n",
    "\n",
    "# Mostrar resultados (opcional)\n",
    "print(\"Imputación completada.\")\n"
   ]
  },
  {
   "cell_type": "code",
   "execution_count": 19,
   "metadata": {},
   "outputs": [],
   "source": [
    "# Seleccionar la variable \"id\" de train_merged\n",
    "id_column = train_merged[[\"id\"]]\n",
    "id_column2 = test_merged[[\"id\"]]\n",
    "\n",
    "# Combinar las bases\n",
    "train_ingreso = pd.concat([train_ingreso, id_column], axis=1)\n",
    "test_ingreso = pd.concat([test_ingreso, id_column2], axis=1)\n",
    "train_pobreza = pd.concat([train_pobreza, id_column], axis=1)\n",
    "test_pobreza = pd.concat([test_pobreza, id_column2], axis=1)\n",
    "\n",
    "train_ingreso = train_ingreso.loc[:, ~train_ingreso.columns.duplicated()]\n",
    "test_ingreso = test_ingreso.loc[:, ~test_ingreso.columns.duplicated()]\n",
    "train_pobreza = train_pobreza.loc[:, ~train_pobreza.columns.duplicated()]\n",
    "test_pobreza = test_pobreza.loc[:, ~test_pobreza.columns.duplicated()]"
   ]
  },
  {
   "cell_type": "code",
   "execution_count": 20,
   "metadata": {},
   "outputs": [
    {
     "data": {
      "text/html": [
       "<div>\n",
       "<style scoped>\n",
       "    .dataframe tbody tr th:only-of-type {\n",
       "        vertical-align: middle;\n",
       "    }\n",
       "\n",
       "    .dataframe tbody tr th {\n",
       "        vertical-align: top;\n",
       "    }\n",
       "\n",
       "    .dataframe thead th {\n",
       "        text-align: right;\n",
       "    }\n",
       "</style>\n",
       "<table border=\"1\" class=\"dataframe\">\n",
       "  <thead>\n",
       "    <tr style=\"text-align: right;\">\n",
       "      <th></th>\n",
       "      <th>P6040</th>\n",
       "      <th>hacin</th>\n",
       "      <th>educ_max</th>\n",
       "      <th>salud_subsi</th>\n",
       "      <th>P6430</th>\n",
       "      <th>Lp</th>\n",
       "      <th>Pobre</th>\n",
       "    </tr>\n",
       "  </thead>\n",
       "  <tbody>\n",
       "    <tr>\n",
       "      <th>count</th>\n",
       "      <td>543109.000000</td>\n",
       "      <td>543109.000000</td>\n",
       "      <td>543109.000000</td>\n",
       "      <td>543109.000000</td>\n",
       "      <td>543109.000000</td>\n",
       "      <td>543109.000000</td>\n",
       "      <td>543109.000000</td>\n",
       "    </tr>\n",
       "    <tr>\n",
       "      <th>mean</th>\n",
       "      <td>33.552710</td>\n",
       "      <td>0.025192</td>\n",
       "      <td>5.258397</td>\n",
       "      <td>0.365034</td>\n",
       "      <td>2.771904</td>\n",
       "      <td>271419.530628</td>\n",
       "      <td>0.251369</td>\n",
       "    </tr>\n",
       "    <tr>\n",
       "      <th>std</th>\n",
       "      <td>21.652844</td>\n",
       "      <td>0.156708</td>\n",
       "      <td>0.951516</td>\n",
       "      <td>0.481440</td>\n",
       "      <td>1.316057</td>\n",
       "      <td>33880.457800</td>\n",
       "      <td>0.433801</td>\n",
       "    </tr>\n",
       "    <tr>\n",
       "      <th>min</th>\n",
       "      <td>0.000000</td>\n",
       "      <td>0.000000</td>\n",
       "      <td>1.000000</td>\n",
       "      <td>0.000000</td>\n",
       "      <td>1.000000</td>\n",
       "      <td>167222.477630</td>\n",
       "      <td>0.000000</td>\n",
       "    </tr>\n",
       "    <tr>\n",
       "      <th>25%</th>\n",
       "      <td>16.000000</td>\n",
       "      <td>0.000000</td>\n",
       "      <td>5.000000</td>\n",
       "      <td>0.000000</td>\n",
       "      <td>1.703829</td>\n",
       "      <td>275482.357470</td>\n",
       "      <td>0.000000</td>\n",
       "    </tr>\n",
       "    <tr>\n",
       "      <th>50%</th>\n",
       "      <td>31.000000</td>\n",
       "      <td>0.000000</td>\n",
       "      <td>6.000000</td>\n",
       "      <td>0.000000</td>\n",
       "      <td>2.819578</td>\n",
       "      <td>280072.175536</td>\n",
       "      <td>0.000000</td>\n",
       "    </tr>\n",
       "    <tr>\n",
       "      <th>75%</th>\n",
       "      <td>50.000000</td>\n",
       "      <td>0.000000</td>\n",
       "      <td>6.000000</td>\n",
       "      <td>1.000000</td>\n",
       "      <td>4.000000</td>\n",
       "      <td>285766.659597</td>\n",
       "      <td>1.000000</td>\n",
       "    </tr>\n",
       "    <tr>\n",
       "      <th>max</th>\n",
       "      <td>110.000000</td>\n",
       "      <td>1.000000</td>\n",
       "      <td>9.000000</td>\n",
       "      <td>1.000000</td>\n",
       "      <td>9.000000</td>\n",
       "      <td>303816.690226</td>\n",
       "      <td>1.000000</td>\n",
       "    </tr>\n",
       "  </tbody>\n",
       "</table>\n",
       "</div>"
      ],
      "text/plain": [
       "               P6040          hacin       educ_max    salud_subsi  \\\n",
       "count  543109.000000  543109.000000  543109.000000  543109.000000   \n",
       "mean       33.552710       0.025192       5.258397       0.365034   \n",
       "std        21.652844       0.156708       0.951516       0.481440   \n",
       "min         0.000000       0.000000       1.000000       0.000000   \n",
       "25%        16.000000       0.000000       5.000000       0.000000   \n",
       "50%        31.000000       0.000000       6.000000       0.000000   \n",
       "75%        50.000000       0.000000       6.000000       1.000000   \n",
       "max       110.000000       1.000000       9.000000       1.000000   \n",
       "\n",
       "               P6430             Lp          Pobre  \n",
       "count  543109.000000  543109.000000  543109.000000  \n",
       "mean        2.771904  271419.530628       0.251369  \n",
       "std         1.316057   33880.457800       0.433801  \n",
       "min         1.000000  167222.477630       0.000000  \n",
       "25%         1.703829  275482.357470       0.000000  \n",
       "50%         2.819578  280072.175536       0.000000  \n",
       "75%         4.000000  285766.659597       1.000000  \n",
       "max         9.000000  303816.690226       1.000000  "
      ]
     },
     "execution_count": 20,
     "metadata": {},
     "output_type": "execute_result"
    }
   ],
   "source": [
    "# Selecciono las variables numéricas a ser utilizadas en alguno de los dos modelos\n",
    "train_pobreza.describe()"
   ]
  },
  {
   "cell_type": "code",
   "execution_count": 21,
   "metadata": {},
   "outputs": [],
   "source": [
    "import seaborn as sns\n",
    "sns.set_theme(style=\"whitegrid\", palette=\"pastel\")"
   ]
  },
  {
   "cell_type": "code",
   "execution_count": 22,
   "metadata": {},
   "outputs": [
    {
     "name": "stderr",
     "output_type": "stream",
     "text": [
      "C:\\Users\\Sofia\\AppData\\Local\\Temp\\ipykernel_21532\\2784202497.py:44: UserWarning: set_ticklabels() should only be used with a fixed number of ticks, i.e. after set_ticks() or using a FixedLocator.\n",
      "  g.set_xticklabels(g.get_xticklabels(), rotation=45, ha=\"right\")\n"
     ]
    },
    {
     "data": {
      "text/plain": [
       "[Text(0, 0, 'Ninguno'),\n",
       " Text(1, 0, 'Preescolar'),\n",
       " Text(2, 0, 'Primaria'),\n",
       " Text(3, 0, 'Secundaria'),\n",
       " Text(4, 0, 'Media'),\n",
       " Text(5, 0, 'Superior o univ.'),\n",
       " Text(6, 0, 'NS/NI')]"
      ]
     },
     "execution_count": 22,
     "metadata": {},
     "output_type": "execute_result"
    },
    {
     "data": {
      "image/png": "[encoded data removed]",
      "text/plain": [
       "<Figure size 640x480 with 1 Axes>"
      ]
     },
     "metadata": {},
     "output_type": "display_data"
    }
   ],
   "source": [
    "# Especificar el orden de las categorías\n",
    "educ_labels = {\n",
    "    1: \"Ninguno\",\n",
    "    2: \"Preescolar\",\n",
    "    3: \"Primaria\",\n",
    "    4: \"Secundaria\",\n",
    "    5: \"Media\",\n",
    "    6: \"Superior o univ.\",\n",
    "    9: \"NS/NI\"\n",
    "}\n",
    "\n",
    "# Crear la columna con etiquetas descriptivas\n",
    "train_pobreza[\"educ_max_label\"] = train_pobreza[\"educ_max\"].map(educ_labels)\n",
    "\n",
    "# Convertir a categoría con un orden específico\n",
    "order = [\n",
    "    \"Ninguno\",\n",
    "    \"Preescolar\",\n",
    "    \"Primaria\",\n",
    "    \"Secundaria\",\n",
    "    \"Media\",\n",
    "    \"Superior o univ.\",\n",
    "    \"NS/NI\"\n",
    "]\n",
    "\n",
    "train_pobreza[\"educ_max_label\"] = pd.Categorical(\n",
    "    train_pobreza[\"educ_max_label\"],\n",
    "    categories=order,\n",
    "    ordered=True\n",
    ")\n",
    "\n",
    "# Mapear los valores de Pobre a etiquetas descriptivas\n",
    "train_pobreza[\"Pobre_label\"] = train_pobreza[\"Pobre\"].replace({1: \"Pobre\", 0: \"No Pobre\"})\n",
    "\n",
    "# Graficar con las etiquetas descriptivas\n",
    "g = sns.countplot(data=train_pobreza, x=\"educ_max_label\", hue=\"Pobre_label\")\n",
    "\n",
    "# Cambiar el título de la leyenda\n",
    "g.legend_.set_title(\"Condición\")\n",
    "\n",
    "g.set(xlabel=\"Máximo nivel educativo\", ylabel=\"Conteo\", title=\"Distribución por nivel educativo y pobreza\")\n",
    "\n",
    "# Rotar etiquetas si es necesario\n",
    "g.set_xticklabels(g.get_xticklabels(), rotation=45, ha=\"right\")\n"
   ]
  },
  {
   "cell_type": "code",
   "execution_count": 23,
   "metadata": {},
   "outputs": [],
   "source": [
    "# Filtrar los datos para contar solo los casos sin hacinamiento\n",
    "sin_hacin = train_pobreza[train_pobreza[\"hacin\"] == 0]\n",
    "\n",
    "# Contar la cantidad de pobres y no pobres sin hacinamiento\n",
    "count_pobre_no_pobre = sin_hacin.groupby(\"Pobre\")[\"hacin\"].count()\n",
    "\n",
    "# Calcular el total de hogares sin hacinamiento\n",
    "total_sin_hacin = count_pobre_no_pobre.sum()\n",
    "\n",
    "# Calcular los porcentajes de pobres y no pobres sin hacinamiento\n",
    "percent_pobre_sin_hacin = ((count_pobre_no_pobre[1] / total_sin_hacin) * 100).round(2)  # Pobre = 1\n",
    "percent_no_pobre_sin_hacin = ((count_pobre_no_pobre[0] / total_sin_hacin) * 100).round(2)  # No pobre = 0\n",
    "\n",
    "# Filtrar los datos para contar solo los casos con hacinamiento\n",
    "con_hacin = train_pobreza[train_pobreza[\"hacin\"] == 1]\n",
    "\n",
    "# Contar la cantidad de pobres y no pobres con hacinamiento\n",
    "count_pobre_no_pobre_hacin = con_hacin.groupby(\"Pobre\")[\"hacin\"].count()\n",
    "\n",
    "# Calcular el total de hogares con hacinamiento\n",
    "total_con_hacin = count_pobre_no_pobre_hacin.sum()\n",
    "\n",
    "# Calcular los porcentajes de pobres y no pobres con hacinamiento\n",
    "percent_pobre_con_hacin = ((count_pobre_no_pobre_hacin[1] / total_con_hacin) * 100).round(2)  # Pobre = 1\n",
    "percent_no_pobre_con_hacin = ((count_pobre_no_pobre_hacin[0] / total_con_hacin) * 100).round(2)  # No pobre = 0\n"
   ]
  },
  {
   "cell_type": "code",
   "execution_count": 24,
   "metadata": {},
   "outputs": [
    {
     "data": {
      "image/png": "[encoded data removed]",
      "text/plain": [
       "<Figure size 920x500 with 1 Axes>"
      ]
     },
     "metadata": {},
     "output_type": "display_data"
    }
   ],
   "source": [
    "import numpy as np\n",
    "import matplotlib.pyplot as plt\n",
    "category_names = ['No pobre', 'Pobre']\n",
    "\n",
    "results = {\n",
    "    'Con hacinamiento crítico': [percent_no_pobre_con_hacin, percent_pobre_con_hacin], \n",
    "    'Sin hacinamiento': [percent_no_pobre_sin_hacin, percent_pobre_sin_hacin]\n",
    "}\n",
    "\n",
    "def survey(results, category_names):\n",
    "    \"\"\"\n",
    "    Parameters\n",
    "    ----------\n",
    "    results : dict\n",
    "        A mapping from question labels to a list of answers per category.\n",
    "        It is assumed all lists contain the same number of entries and that\n",
    "        it matches the length of *category_names*.\n",
    "    category_names : list of str\n",
    "        The category labels.\n",
    "    \"\"\"\n",
    "    labels = list(results.keys())\n",
    "    data = np.array(list(results.values()))\n",
    "    data_cum = data.cumsum(axis=1)\n",
    "    category_colors = plt.colormaps['Pastel1'](\n",
    "        np.linspace(0.15, 0.85, data.shape[1]))\n",
    "\n",
    "    fig, ax = plt.subplots(figsize=(9.2, 5))\n",
    "    ax.invert_yaxis()\n",
    "    ax.set_xlim(0, np.sum(data, axis=1).max())\n",
    "\n",
    "    for i, (colname, color) in enumerate(zip(category_names, category_colors)):\n",
    "        widths = data[:, i]\n",
    "        starts = data_cum[:, i] - widths\n",
    "        rects = ax.barh(labels, widths, left=starts, height=0.5,\n",
    "                        label=colname, color=color)\n",
    "\n",
    "        r, g, b, _ = color\n",
    "        text_color = 'white' if r * g * b < 0.5 else '0.2'\n",
    "\n",
    "        ax.bar_label(rects, label_type='center', color=text_color)\n",
    "    \n",
    "    # Asegurarse de que el eje X sea visible\n",
    "    ax.xaxis.set_visible(True)\n",
    "    \n",
    "    # Agregar el título al eje X\n",
    "    ax.set_xlabel(\"Porcentaje (%)\", fontsize=12)\n",
    "\n",
    "    ax.legend(ncol=len(category_names), bbox_to_anchor=(0, 1),\n",
    "              loc='lower left', fontsize='small')\n",
    "\n",
    "    return fig, ax\n",
    "\n",
    "\n",
    "survey(results, category_names)\n",
    "plt.show()\n"
   ]
  },
  {
   "cell_type": "code",
   "execution_count": 25,
   "metadata": {},
   "outputs": [],
   "source": [
    "# Filtrar los datos para contar solo los casos con subsidio a la salud\n",
    "con_subsidio = train_pobreza[train_pobreza[\"salud_subsi\"] == 1]\n",
    "\n",
    "# Contar la cantidad de pobres y no pobres con subsidio a la salud\n",
    "count_pobre_no_pobre_subsidio = con_subsidio.groupby(\"Pobre\")[\"salud_subsi\"].count()\n",
    "\n",
    "# Calcular el total de hogares con subsidio a la salud\n",
    "total_con_subsidio = count_pobre_no_pobre_subsidio.sum()\n",
    "\n",
    "# Calcular los porcentajes de pobres y no pobres con subsidio a la salud\n",
    "percent_pobre_con_subsidio = ((count_pobre_no_pobre_subsidio[1] / total_con_subsidio) * 100).round(2)  # Pobre = 1\n",
    "percent_no_pobre_con_subsidio = ((count_pobre_no_pobre_subsidio[0] / total_con_subsidio) * 100).round(2)  # No pobre = 0\n",
    "\n",
    "# Filtrar los datos para contar solo los casos sin subsidio a la salud\n",
    "sin_subsidio = train_pobreza[train_pobreza[\"salud_subsi\"] == 0]\n",
    "\n",
    "# Contar la cantidad de pobres y no pobres sin subsidio a la salud\n",
    "count_pobre_no_pobre_sin_subsidio = sin_subsidio.groupby(\"Pobre\")[\"salud_subsi\"].count()\n",
    "\n",
    "# Calcular el total de hogares sin subsidio a la salud\n",
    "total_sin_subsidio = count_pobre_no_pobre_sin_subsidio.sum()\n",
    "\n",
    "# Calcular los porcentajes de pobres y no pobres sin subsidio a la salud\n",
    "percent_pobre_sin_subsidio = ((count_pobre_no_pobre_sin_subsidio[1] / total_sin_subsidio) * 100).round(2)  # Pobre = 1\n",
    "percent_no_pobre_sin_subsidio = ((count_pobre_no_pobre_sin_subsidio[0] / total_sin_subsidio) * 100).round(2)  # No pobre = 0"
   ]
  },
  {
   "cell_type": "code",
   "execution_count": 26,
   "metadata": {},
   "outputs": [
    {
     "data": {
      "image/png": "[encoded data removed]",
      "text/plain": [
       "<Figure size 920x500 with 1 Axes>"
      ]
     },
     "metadata": {},
     "output_type": "display_data"
    }
   ],
   "source": [
    "category_names = ['No pobre', 'Pobre']\n",
    "\n",
    "results = {\n",
    "    'Con subsidio a la salud': [percent_no_pobre_con_subsidio, percent_pobre_con_subsidio], \n",
    "    'Sin subsidio a la salud': [percent_no_pobre_sin_subsidio, percent_pobre_sin_subsidio]\n",
    "}\n",
    "\n",
    "def survey(results, category_names):\n",
    "    \"\"\"\n",
    "    Parameters\n",
    "    ----------\n",
    "    results : dict\n",
    "        A mapping from question labels to a list of answers per category.\n",
    "        It is assumed all lists contain the same number of entries and that\n",
    "        it matches the length of *category_names*.\n",
    "    category_names : list of str\n",
    "        The category labels.\n",
    "    \"\"\"\n",
    "    labels = list(results.keys())\n",
    "    data = np.array(list(results.values()))\n",
    "    data_cum = data.cumsum(axis=1)\n",
    "    category_colors = plt.colormaps['Pastel1'](\n",
    "        np.linspace(0.15, 0.85, data.shape[1]))\n",
    "\n",
    "    fig, ax = plt.subplots(figsize=(9.2, 5))\n",
    "    ax.invert_yaxis()\n",
    "    ax.set_xlim(0, np.sum(data, axis=1).max())\n",
    "\n",
    "    for i, (colname, color) in enumerate(zip(category_names, category_colors)):\n",
    "        widths = data[:, i]\n",
    "        starts = data_cum[:, i] - widths\n",
    "        rects = ax.barh(labels, widths, left=starts, height=0.5,\n",
    "                        label=colname, color=color)\n",
    "\n",
    "        r, g, b, _ = color\n",
    "        text_color = 'white' if r * g * b < 0.5 else '0.2'\n",
    "\n",
    "        ax.bar_label(rects, label_type='center', color=text_color)\n",
    "    \n",
    "    # Asegurarse de que el eje X sea visible\n",
    "    ax.xaxis.set_visible(True)\n",
    "    \n",
    "    # Agregar el título al eje X\n",
    "    ax.set_xlabel(\"Porcentaje (%)\", fontsize=12)\n",
    "\n",
    "    ax.legend(ncol=len(category_names), bbox_to_anchor=(0, 1),\n",
    "              loc='lower left', fontsize='small')\n",
    "\n",
    "    return fig, ax\n",
    "\n",
    "survey(results, category_names)\n",
    "plt.show()"
   ]
  },
  {
   "cell_type": "code",
   "execution_count": 27,
   "metadata": {},
   "outputs": [
    {
     "name": "stderr",
     "output_type": "stream",
     "text": [
      "C:\\Users\\Sofia\\AppData\\Local\\Temp\\ipykernel_21532\\2868484159.py:1: FutureWarning: \n",
      "\n",
      "Passing `palette` without assigning `hue` is deprecated and will be removed in v0.14.0. Assign the `x` variable to `hue` and set `legend=False` for the same effect.\n",
      "\n",
      "  sns.violinplot(data=train_pobreza, x=\"Pobre_label\", y=\"P6040\", palette=\"pastel\", split=True)\n"
     ]
    },
    {
     "data": {
      "image/png": "[encoded data removed]",
      "text/plain": [
       "<Figure size 640x480 with 1 Axes>"
      ]
     },
     "metadata": {},
     "output_type": "display_data"
    }
   ],
   "source": [
    "sns.violinplot(data=train_pobreza, x=\"Pobre_label\", y=\"P6040\", palette=\"pastel\", split=True)\n",
    "plt.xlabel(\"Condición de pobreza\")\n",
    "plt.ylabel(\"Edad\")\n",
    "plt.title(\"Distribución de la edad por condición de pobreza\")\n",
    "plt.xticks([0, 1], [\"No pobre\", \"Pobre\"])\n",
    "plt.show()\n"
   ]
  }
 ],
 "metadata": {
  "kernelspec": {
   "display_name": "base",
   "language": "python",
   "name": "python3"
  },
  "language_info": {
   "codemirror_mode": {
    "name": "ipython",
    "version": 3
   },
   "file_extension": ".py",
   "mimetype": "text/x-python",
   "name": "python",
   "nbconvert_exporter": "python",
   "pygments_lexer": "ipython3",
   "version": "3.12.3"
  }
 },
 "nbformat": 4,
 "nbformat_minor": 2
}
